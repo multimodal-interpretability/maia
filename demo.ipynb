{
 "cells": [
  {
   "cell_type": "markdown",
   "metadata": {},
   "source": [
    "# MAIA Demo\n",
    "\n",
    "#### Many of MAIA's experiments are available in the [experiment browser](https://multimodal-interpretability.csail.mit.edu/maia/experiment-browser/) ####"
   ]
  },
  {
   "cell_type": "code",
   "execution_count": 1,
   "metadata": {},
   "outputs": [],
   "source": [
    "%load_ext autoreload\n",
    "%autoreload 2"
   ]
  },
  {
   "cell_type": "code",
   "execution_count": 2,
   "metadata": {},
   "outputs": [],
   "source": [
    "import os\n",
    "import torch\n",
    "\n",
    "from utils.call_agent import ask_agent\n",
    "from maia_api import System, Synthetic_System, Tools\n",
    "from utils.ExperimentEnvironment import ExperimentEnvironment\n",
    "from utils.DatasetExemplars import DatasetExemplars\n",
    "from utils.SyntheticExemplars import SyntheticExemplars\n",
    "from utils.main_utils import *"
   ]
  },
  {
   "cell_type": "code",
   "execution_count": 4,
   "metadata": {},
   "outputs": [],
   "source": [
    "model = 'resnet152' # we currently support 'resnet152', 'clip-RN50', 'dino_vits8' and \"synthetic_neurons\" (NEW!)\n",
    "layer = 'layer4' # for \"synthetic_neurons\" this will be the operation mode: \"mono\", \"or\" or \"and\" (see paper for details)\n",
    "unit = 122\n",
    "setting = 'neuron_description'\n",
    "maia_model = 'claude' # points to claude-3-5-sonnet-latest\n",
    "path2prompts = './prompts/'\n",
    "path2save = './results/'\n",
    "path2exemplars = './exemplars/'\n",
    "device_id = 0\n",
    "device = torch.device(f\"cuda:{device_id}\" if torch.cuda.is_available() else \"cpu\") \n",
    "text2image = 'flux' # \"sd\" is for stable-diffusion\n",
    "p2p_model = 'instdiff'"
   ]
  },
  {
   "cell_type": "code",
   "execution_count": 5,
   "metadata": {},
   "outputs": [],
   "source": [
    "# return the prompt according to the task\n",
    "def return_Prompt(prompt_path,setting='neuron_description'):\n",
    "    with open(f'{prompt_path}/api.txt', 'r') as file:\n",
    "        sysPrompt = file.read()\n",
    "    with open(f'{prompt_path}/user_{setting}.txt', 'r') as file:\n",
    "        user_prompt = file.read()\n",
    "    return sysPrompt, user_prompt\n",
    "    \n",
    "maia_api, user_query = return_Prompt(path2prompts, setting) # load system prompt (maia api) and user prompt (the user query)"
   ]
  },
  {
   "cell_type": "markdown",
   "metadata": {},
   "source": [
    "### MAIA API"
   ]
  },
  {
   "cell_type": "code",
   "execution_count": null,
   "metadata": {
    "scrolled": true
   },
   "outputs": [],
   "source": [
    "print(maia_api)"
   ]
  },
  {
   "cell_type": "markdown",
   "metadata": {},
   "source": [
    "### Interpretability task"
   ]
  },
  {
   "cell_type": "code",
   "execution_count": null,
   "metadata": {
    "scrolled": true
   },
   "outputs": [],
   "source": [
    "print(user_query)"
   ]
  },
  {
   "cell_type": "markdown",
   "metadata": {},
   "source": [
    "### Initializations"
   ]
  },
  {
   "cell_type": "code",
   "execution_count": null,
   "metadata": {},
   "outputs": [],
   "source": [
    "if model==\"synthetic_neurons\":\n",
    "    net_dissect = SyntheticExemplars(os.path.join(path2exemplars, model), path2save, layer) # precomputes synthetic dataset examplars for tools.dataset_exemplars. \n",
    "    with open(os.path.join('./synthetic-neurons-dataset/labels/',f'{layer}.json'), 'r') as file: # load the synthetic neuron labels\n",
    "        synthetic_neuron_data = json.load(file)\n",
    "        gt_label = synthetic_neuron_data[unit][\"label\"].rsplit('_')\n",
    "        print(\"groundtruth label:\",gt_label)\n",
    "        system = Synthetic_System(unit, gt_label, layer, device_id)\n",
    "else:\n",
    "    net_dissect = DatasetExemplars(path2exemplars, path2save, model, layer, [unit]) # precomputes dataset exemplars for tools.dataset_exemplars\n",
    "    system = System(unit, layer, model, device_id, net_dissect.thresholds) # initialize the system class\n",
    "\n",
    "tools = Tools(path2save, device_id, net_dissect, text2image_model_name=text2image, p2p_model_name=p2p_model) # initialize the tools class\n",
    "experiment_env = ExperimentEnvironment(system, tools, globals())"
   ]
  },
  {
   "cell_type": "markdown",
   "metadata": {},
   "source": [
    "### MAIA's interpretation experiment\n",
    "\n",
    "Please note: \n",
    "This demo does not handle open-ai api exceptions and bugs in MAIA's code, please switch to ```main.py``` for error handling (recommended for looping over several units). ```main.py``` also handles saving results."
   ]
  },
  {
   "cell_type": "code",
   "execution_count": null,
   "metadata": {
    "scrolled": false
   },
   "outputs": [],
   "source": [
    "tools.experiment_log = []\n",
    "tools.update_experiment_log(role='system', type=\"text\", type_content=maia_api) # update the experiment log with the system prompt\n",
    "tools.update_experiment_log(role='user', type=\"text\", type_content=user_query) # update the experiment log with the user prompt\n",
    "ind = len(tools.experiment_log)\n",
    "\n",
    "while True:\n",
    "    maia_experiment = ask_agent(maia_model,tools.experiment_log) # ask maia for the next experiment given the results log to the experiment log\n",
    "    tools.update_experiment_log(role='maia', type=\"text\", type_content=str(maia_experiment)) # update the experiment log with maia's response \n",
    "    plot_results_notebook(tools.experiment_log[ind:]) # plot the result to notebook\n",
    "    ind = len(tools.experiment_log)\n",
    "    if \"[DESCRIPTION]\" in maia_experiment: break # stop the experiment if the response contains the final description. \n",
    "    experiment_output = experiment_env.execute_experiment(maia_experiment) # execute the experiment\n",
    "    if experiment_output != \"\":\n",
    "        tools.update_experiment_log(role='user', type=\"text\", type_content=experiment_output)\n",
    "tools.generate_html(path2save)"
   ]
  }
 ],
 "metadata": {
  "kernelspec": {
   "display_name": "maia_env",
   "language": "python",
   "name": "python3"
  },
  "language_info": {
   "codemirror_mode": {
    "name": "ipython",
    "version": 3
   },
   "file_extension": ".py",
   "mimetype": "text/x-python",
   "name": "python",
   "nbconvert_exporter": "python",
   "pygments_lexer": "ipython3",
   "version": "3.10.13"
  }
 },
 "nbformat": 4,
 "nbformat_minor": 4
}
